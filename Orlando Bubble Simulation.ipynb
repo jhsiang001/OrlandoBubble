{
 "cells": [
  {
   "cell_type": "code",
   "execution_count": 6,
   "metadata": {},
   "outputs": [],
   "source": [
    "import pandas as pd\n",
    "import numpy as np\n",
    "import matplotlib.pyplot as plt\n",
    "import requests \n",
    "from bs4 import BeautifulSoup"
   ]
  },
  {
   "cell_type": "code",
   "execution_count": 62,
   "metadata": {},
   "outputs": [],
   "source": [
    "LAL_df = pd.DataFrame()\n",
    "LAC_df = pd.DataFrame()\n",
    "DEN_df = pd.DataFrame()\n",
    "UTA_df = pd.DataFrame()\n",
    "OKC_df = pd.DataFrame()\n",
    "HOU_df = pd.DataFrame()\n",
    "DAL_df = pd.DataFrame()\n",
    "MEM_df = pd.DataFrame()\n",
    "POR_df = pd.DataFrame()\n",
    "NOP_df = pd.DataFrame()\n",
    "SAC_df = pd.DataFrame()\n",
    "SAS_df = pd.DataFrame()\n",
    "PHX_df = pd.DataFrame()\n",
    "MIL_df = pd.DataFrame()\n",
    "TOR_df = pd.DataFrame()\n",
    "BOS_df = pd.DataFrame()\n",
    "MIA_df = pd.DataFrame()\n",
    "IND_df = pd.DataFrame()\n",
    "PHI_df = pd.DataFrame()\n",
    "BKN_df = pd.DataFrame()\n",
    "ORL_df = pd.DataFrame()\n",
    "WAS_df = pd.DataFrame()\n",
    "\n",
    "team_ref = {\"LAL\": LAL_df,\n",
    "\"LAC\":LAC_df,\n",
    "           }\n",
    "\n",
    "\n"
   ]
  },
  {
   "cell_type": "code",
   "execution_count": 68,
   "metadata": {},
   "outputs": [],
   "source": [
    "for team in team_ref:\n",
    "    team_schedule_url = \"https://www.basketball-reference.com/teams/\"+ team + \"/2020_games.html\"\n",
    "    team_schedule_html = requests.get(team_schedule_url)\n",
    "    team_soup = BeautifulSoup(team_schedule_html.content, 'html.parser')\n",
    "    team_table = team_soup.find('table')\n",
    "    team_ref[team] = pd.read_html(str(team_table))[0]"
   ]
  },
  {
   "cell_type": "code",
   "execution_count": 69,
   "metadata": {},
   "outputs": [
    {
     "data": {
      "text/html": [
       "<div>\n",
       "<style scoped>\n",
       "    .dataframe tbody tr th:only-of-type {\n",
       "        vertical-align: middle;\n",
       "    }\n",
       "\n",
       "    .dataframe tbody tr th {\n",
       "        vertical-align: top;\n",
       "    }\n",
       "\n",
       "    .dataframe thead th {\n",
       "        text-align: right;\n",
       "    }\n",
       "</style>\n",
       "<table border=\"1\" class=\"dataframe\">\n",
       "  <thead>\n",
       "    <tr style=\"text-align: right;\">\n",
       "      <th></th>\n",
       "    </tr>\n",
       "  </thead>\n",
       "  <tbody>\n",
       "  </tbody>\n",
       "</table>\n",
       "</div>"
      ],
      "text/plain": [
       "Empty DataFrame\n",
       "Columns: []\n",
       "Index: []"
      ]
     },
     "execution_count": 69,
     "metadata": {},
     "output_type": "execute_result"
    }
   ],
   "source": [
    "LAL_df\n"
   ]
  },
  {
   "cell_type": "code",
   "execution_count": null,
   "metadata": {},
   "outputs": [],
   "source": []
  }
 ],
 "metadata": {
  "kernelspec": {
   "display_name": "Python 3",
   "language": "python",
   "name": "python3"
  },
  "language_info": {
   "codemirror_mode": {
    "name": "ipython",
    "version": 3
   },
   "file_extension": ".py",
   "mimetype": "text/x-python",
   "name": "python",
   "nbconvert_exporter": "python",
   "pygments_lexer": "ipython3",
   "version": "3.7.6"
  }
 },
 "nbformat": 4,
 "nbformat_minor": 4
}
