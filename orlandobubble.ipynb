{
 "cells": [
  {
   "cell_type": "code",
   "execution_count": 2,
   "metadata": {},
   "outputs": [],
   "source": [
    "import pandas as pd\n",
    "import numpy as np\n",
    "import matplotlib.pyplot as plt\n",
    "import requests \n",
    "from bs4 import BeautifulSoup"
   ]
  },
  {
   "cell_type": "code",
   "execution_count": 9,
   "metadata": {},
   "outputs": [],
   "source": [
    "LAL_df = pd.DataFrame()\n",
    "LAC_df = pd.DataFrame()\n",
    "DEN_df = pd.DataFrame()\n",
    "UTA_df = pd.DataFrame()\n",
    "OKC_df = pd.DataFrame()\n",
    "HOU_df = pd.DataFrame()\n",
    "DAL_df = pd.DataFrame()\n",
    "MEM_df = pd.DataFrame()\n",
    "POR_df = pd.DataFrame()\n",
    "NOP_df = pd.DataFrame()\n",
    "SAC_df = pd.DataFrame()\n",
    "SAS_df = pd.DataFrame()\n",
    "PHO_df = pd.DataFrame()\n",
    "MIL_df = pd.DataFrame()\n",
    "TOR_df = pd.DataFrame()\n",
    "BOS_df = pd.DataFrame()\n",
    "MIA_df = pd.DataFrame()\n",
    "IND_df = pd.DataFrame()\n",
    "PHI_df = pd.DataFrame()\n",
    "BRK_df = pd.DataFrame()\n",
    "ORL_df = pd.DataFrame()\n",
    "\n",
    "WAS_df = pd.DataFrame()\n",
    "team_ref = {\"LAL\": LAL_df,\n",
    "\"LAC\":LAC_df,\n",
    "\"DEN\":DEN_df, \n",
    "\"UTA\":UTA_df, \n",
    "\"OKC\":OKC_df,\n",
    "\"HOU\":HOU_df,\n",
    "\"DAL\":DAL_df,\n",
    "\"MEM\":MEM_df,\n",
    "\"POR\":POR_df,\n",
    "\"NOP\":NOP_df,\n",
    "\"SAC\":SAC_df,\n",
    "\"SAS\":SAS_df,\n",
    "\"PHO\":PHO_df,\n",
    "\"MIL\":MIL_df,\n",
    "\"TOR\":TOR_df,\n",
    "\"BOS\":BOS_df,\n",
    "\"MIA\":MIA_df,\n",
    "\"IND\":IND_df,\n",
    "\"PHI\":PHI_df,\n",
    "\"BRK\":BRK_df,\n",
    "\"ORL\":ORL_df,\n",
    "\"WAS\":WAS_df \n",
    "           }\n",
    "\n",
    "\n"
   ]
  },
  {
   "cell_type": "code",
   "execution_count": 10,
   "metadata": {},
   "outputs": [],
   "source": [
    "for team in team_ref:\n",
    "    team_schedule_url = \"https://www.basketball-reference.com/teams/\"+team+\"/2020_games.html\"\n",
    "    team_schedule_html = requests.get(team_schedule_url)\n",
    "    team_soup = BeautifulSoup(team_schedule_html.content, 'html.parser')\n",
    "    team_table = team_soup.find('table')\n",
    "    team_ref[team] = pd.read_html(str(team_table))[0].drop(columns = [\"Notes\",\"Streak\", \"W\",\"L\", \"G\",\"Date\", \"Start (ET)\",\n",
    "                                                                     \"Unnamed: 3\", \"Unnamed: 4\", \"Unnamed: 5\",\"Unnamed: 7\",\n",
    "                                                                     \"Unnamed: 8\"]).dropna()\n",
    "LAL_df = team_ref[\"LAL\"]\n",
    "LAC_df = team_ref[\"LAC\"]\n",
    "DEN_df = team_ref[\"DEN\"]\n",
    "UTA_df = team_ref[\"UTA\"]\n",
    "OKC_df = team_ref[\"OKC\"]\n",
    "HOU_df = team_ref[\"HOU\"]\n",
    "DAL_df = team_ref[\"DAL\"]\n",
    "MEM_df = team_ref[\"MEM\"]\n",
    "POR_df = team_ref[\"POR\"]\n",
    "NOP_df = team_ref[\"NOP\"]\n",
    "SAC_df = team_ref[\"SAC\"]\n",
    "SAS_df = team_ref[\"SAS\"]\n",
    "PHO_df = team_ref[\"PHO\"]\n",
    "MIL_df = team_ref[\"MIL\"]\n",
    "TOR_df = team_ref[\"TOR\"]\n",
    "BOS_df = team_ref[\"BOS\"]\n",
    "MIA_df = team_ref[\"MIA\"]\n",
    "IND_df = team_ref[\"IND\"]\n",
    "PHI_df = team_ref[\"PHI\"]\n",
    "BRK_df = team_ref[\"BRK\"]\n",
    "ORL_df = team_ref[\"ORL\"]\n",
    "WAS_df = team_ref[\"WAS\"]"
   ]
  },
  {
   "cell_type": "code",
   "execution_count": 11,
   "metadata": {
    "scrolled": true
   },
   "outputs": [
    {
     "data": {
      "text/html": [
       "<div>\n",
       "<style scoped>\n",
       "    .dataframe tbody tr th:only-of-type {\n",
       "        vertical-align: middle;\n",
       "    }\n",
       "\n",
       "    .dataframe tbody tr th {\n",
       "        vertical-align: top;\n",
       "    }\n",
       "\n",
       "    .dataframe thead th {\n",
       "        text-align: right;\n",
       "    }\n",
       "</style>\n",
       "<table border=\"1\" class=\"dataframe\">\n",
       "  <thead>\n",
       "    <tr style=\"text-align: right;\">\n",
       "      <th></th>\n",
       "      <th>Opponent</th>\n",
       "      <th>Tm</th>\n",
       "      <th>Opp</th>\n",
       "    </tr>\n",
       "  </thead>\n",
       "  <tbody>\n",
       "    <tr>\n",
       "      <th>0</th>\n",
       "      <td>Phoenix Suns</td>\n",
       "      <td>95</td>\n",
       "      <td>124</td>\n",
       "    </tr>\n",
       "    <tr>\n",
       "      <th>1</th>\n",
       "      <td>Portland Trail Blazers</td>\n",
       "      <td>112</td>\n",
       "      <td>122</td>\n",
       "    </tr>\n",
       "    <tr>\n",
       "      <th>2</th>\n",
       "      <td>Utah Jazz</td>\n",
       "      <td>81</td>\n",
       "      <td>113</td>\n",
       "    </tr>\n",
       "    <tr>\n",
       "      <th>3</th>\n",
       "      <td>Denver Nuggets</td>\n",
       "      <td>94</td>\n",
       "      <td>101</td>\n",
       "    </tr>\n",
       "    <tr>\n",
       "      <th>4</th>\n",
       "      <td>Charlotte Hornets</td>\n",
       "      <td>111</td>\n",
       "      <td>118</td>\n",
       "    </tr>\n",
       "    <tr>\n",
       "      <th>...</th>\n",
       "      <td>...</td>\n",
       "      <td>...</td>\n",
       "      <td>...</td>\n",
       "    </tr>\n",
       "    <tr>\n",
       "      <th>62</th>\n",
       "      <td>Opponent</td>\n",
       "      <td>Tm</td>\n",
       "      <td>Opp</td>\n",
       "    </tr>\n",
       "    <tr>\n",
       "      <th>63</th>\n",
       "      <td>Washington Wizards</td>\n",
       "      <td>133</td>\n",
       "      <td>126</td>\n",
       "    </tr>\n",
       "    <tr>\n",
       "      <th>64</th>\n",
       "      <td>Philadelphia 76ers</td>\n",
       "      <td>108</td>\n",
       "      <td>125</td>\n",
       "    </tr>\n",
       "    <tr>\n",
       "      <th>65</th>\n",
       "      <td>Portland Trail Blazers</td>\n",
       "      <td>123</td>\n",
       "      <td>111</td>\n",
       "    </tr>\n",
       "    <tr>\n",
       "      <th>66</th>\n",
       "      <td>Toronto Raptors</td>\n",
       "      <td>113</td>\n",
       "      <td>118</td>\n",
       "    </tr>\n",
       "  </tbody>\n",
       "</table>\n",
       "<p>67 rows × 3 columns</p>\n",
       "</div>"
      ],
      "text/plain": [
       "                  Opponent   Tm  Opp\n",
       "0             Phoenix Suns   95  124\n",
       "1   Portland Trail Blazers  112  122\n",
       "2                Utah Jazz   81  113\n",
       "3           Denver Nuggets   94  101\n",
       "4        Charlotte Hornets  111  118\n",
       "..                     ...  ...  ...\n",
       "62                Opponent   Tm  Opp\n",
       "63      Washington Wizards  133  126\n",
       "64      Philadelphia 76ers  108  125\n",
       "65  Portland Trail Blazers  123  111\n",
       "66         Toronto Raptors  113  118\n",
       "\n",
       "[67 rows x 3 columns]"
      ]
     },
     "execution_count": 11,
     "metadata": {},
     "output_type": "execute_result"
    }
   ],
   "source": [
    "SAC_df"
   ]
  },
  {
   "cell_type": "code",
   "execution_count": 31,
   "metadata": {},
   "outputs": [
    {
     "data": {
      "text/plain": [
       "(array([9., 8., 7., 7., 8., 4., 8., 5., 7., 4.]),\n",
       " array([ 0. ,  3.8,  7.6, 11.4, 15.2, 19. , 22.8, 26.6, 30.4, 34.2, 38. ]),\n",
       " <a list of 10 Patch objects>)"
      ]
     },
     "execution_count": 31,
     "metadata": {},
     "output_type": "execute_result"
    },
    {
     "data": {
      "image/png": "[encoded data removed]",
      "text/plain": [
       "<Figure size 432x288 with 1 Axes>"
      ]
     },
     "metadata": {
      "needs_background": "light"
     },
     "output_type": "display_data"
    }
   ],
   "source": [
    "plt.hist(TOR_df.iloc[:,1], bins = 10)"
   ]
  },
  {
   "cell_type": "code",
   "execution_count": null,
   "metadata": {},
   "outputs": [],
   "source": []
  }
 ],
 "metadata": {
  "kernelspec": {
   "display_name": "Python 3",
   "language": "python",
   "name": "python3"
  },
  "language_info": {
   "codemirror_mode": {
    "name": "ipython",
    "version": 3
   },
   "file_extension": ".py",
   "mimetype": "text/x-python",
   "name": "python",
   "nbconvert_exporter": "python",
   "pygments_lexer": "ipython3",
   "version": "3.7.6"
  }
 },
 "nbformat": 4,
 "nbformat_minor": 4
}
